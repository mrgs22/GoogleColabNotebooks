{
  "nbformat": 4,
  "nbformat_minor": 0,
  "metadata": {
    "kernelspec": {
      "display_name": "Python 3",
      "language": "python",
      "name": "python3"
    },
    "language_info": {
      "codemirror_mode": {
        "name": "ipython",
        "version": 3
      },
      "file_extension": ".py",
      "mimetype": "text/x-python",
      "name": "python",
      "nbconvert_exporter": "python",
      "pygments_lexer": "ipython3",
      "version": "3.8.8"
    },
    "colab": {
      "provenance": []
    }
  },
  "cells": [
    {
      "cell_type": "markdown",
      "metadata": {
        "id": "UuWag3M9G4Fw"
      },
      "source": [
        "# Implement Minimax and Monte Carlo Tree Search (Total 40 points)"
      ]
    },
    {
      "cell_type": "code",
      "metadata": {
        "id": "9sk5MTkiDIIm"
      },
      "source": [
        "from collections import namedtuple, Counter, defaultdict\n",
        "import random\n",
        "import math\n",
        "import functools\n",
        "import numpy as np"
      ],
      "execution_count": null,
      "outputs": []
    },
    {
      "cell_type": "markdown",
      "metadata": {
        "id": "XeYcj96VDIIp"
      },
      "source": [
        "## Define Game\n",
        "\n",
        "We start with defining the abstract class `Game`, for turn-taking *n*-player games.\n",
        "\n",
        "We rely on, but do not define yet, the concept of a `state` of the game; we'll see later how individual games define states. For now, all we require is that a state has a `state.to_move` attribute, which gives the name of the player whose turn it is. (\"Name\" will be something like `'X'` or `'O'` for tic-tac-toe.)\n",
        "\n",
        "We also define `play_game`, which takes a game and a dictionary of  `{player_name: strategy_function}` pairs, and plays out the game, on each turn checking `state.to_move` to see whose turn it is, and then getting the strategy function for that player and applying it to the game and the state to get a move."
      ]
    },
    {
      "cell_type": "code",
      "metadata": {
        "id": "RHbM62t9DIIq"
      },
      "source": [
        "class Game:\n",
        "    \"\"\"A game is similar to a problem, but it has a terminal test instead of a goal test, and a utility for each terminal state.\n",
        "    To create a game, subclass this class and implement `actions`, `result`, `is_terminal`, and `utility`.\n",
        "    You will also need to set the .initial attribute to the initial state; this can be done in the constructor.\n",
        "    \"\"\"\n",
        "    def actions(self, state):\n",
        "        \"\"\"Return a collection of the allowable moves from this state.\"\"\"\n",
        "        raise NotImplementedError\n",
        "\n",
        "    def result(self, state, move):\n",
        "        \"\"\"Return the state that results from making a move from a state.\"\"\"\n",
        "        raise NotImplementedError\n",
        "\n",
        "    def is_terminal(self, state):\n",
        "        \"\"\"Return True if this is a final state for the game.\"\"\"\n",
        "        return not self.actions(state)\n",
        "\n",
        "    def utility(self, state, player):\n",
        "        \"\"\"Return the value of this final state to player.\"\"\"\n",
        "        raise NotImplementedError\n",
        "\n",
        "    def to_move(self, state):\n",
        "        \"\"\"Return the player whose move it is in this state.\"\"\"\n",
        "        return state.to_move\n",
        "\n",
        "def play_game(game, strategies: dict, verbose=False):\n",
        "    \"\"\"Play a turn-taking game.\n",
        "    `strategies` is a {player_name: function} dict, where function(state, game) is used to get the player's move.\n",
        "    \"\"\"\n",
        "    state = game.initial\n",
        "    while not game.is_terminal(state):\n",
        "        player = state.to_move\n",
        "        move = strategies[player](game, state)\n",
        "        state = game.result(state, move)\n",
        "        if verbose:\n",
        "            print('Player', player, 'move:', move)\n",
        "            print(state)\n",
        "    return state"
      ],
      "execution_count": null,
      "outputs": []
    },
    {
      "cell_type": "markdown",
      "metadata": {
        "id": "YIDhbtKgDIIr"
      },
      "source": [
        "## A Simple Game: Tic-Tac-Toe\n",
        "\n",
        "We have the notion of an abstract game. Now it is time to define a simple real game: tic-tac-toe. Moves are `(x, y)` pairs denoting squares, where `(0, 0)` is the top left, and `(2, 2)` is the bottom right (on a board of size `height=width=3`).\n",
        "\n",
        "States in tic-tac-toe (and other games) will be represented as a `Board`, which is a subclass of `defaultdict` that in general will consist of `{(x, y): contents}` pairs, for example `{(0, 0): 'X', (1, 1): 'O'}` might be the state of the board after two moves. Besides the contents of squares, a board also has some attributes:\n",
        "- `.to_move` to name the player whose move it is;\n",
        "- `.width` and `.height` to give the size of the board (both 3 in tic-tac-toe, but other numbers in related games);\n",
        "- possibly other attributes, as specified by keywords.\n",
        "\n",
        "As a `defaultdict`, the `Board` class has a `__missing__` method, which returns `empty` for squares that have no been assigned but are within the `width` × `height` boundaries, or `off` otherwise. The class has a `__hash__` method, so instances can be stored in hash tables."
      ]
    },
    {
      "cell_type": "code",
      "metadata": {
        "id": "zsqcc1uwDIIs"
      },
      "source": [
        "class Board(defaultdict):\n",
        "    \"\"\"A board has the player to move, a cached utility value, and a dict of {(x, y): player} entries, where player is 'X' or 'O'.\"\"\"\n",
        "\n",
        "    empty = '.'\n",
        "    off = '#'\n",
        "\n",
        "    def __init__(self, width=3, height=3, to_move=None, **kwds):\n",
        "        self.__dict__.update(width=width, height=height, to_move=to_move, **kwds)\n",
        "\n",
        "    def new(self, changes: dict, **kwds) -> 'Board':\n",
        "        \"Given a dict of {(x, y): contents} changes, return a new Board with the changes.\"\n",
        "        board = Board(width=self.width, height=self.height, **kwds)\n",
        "        board.update(self)\n",
        "        board.update(changes)\n",
        "        return board\n",
        "\n",
        "    def __missing__(self, loc):\n",
        "        x, y = loc\n",
        "        if 0 <= x < self.width and 0 <= y < self.height:\n",
        "            return self.empty\n",
        "        else:\n",
        "            return self.off\n",
        "\n",
        "    def __hash__(self):\n",
        "        return hash(tuple(sorted(self.items()))) + hash(self.to_move)\n",
        "\n",
        "    def __repr__(self):\n",
        "        def row(y):\n",
        "            return ' '.join(self[x, y] for x in range(self.width))\n",
        "        return '\\n'.join(map(row, range(self.height))) +  '\\n'"
      ],
      "execution_count": null,
      "outputs": []
    },
    {
      "cell_type": "code",
      "metadata": {
        "id": "HOWbJeq1DIIs"
      },
      "source": [
        "class TicTacToe(Game):\n",
        "    \"\"\"Play TicTacToe on an `height` by `width` board, needing `k` in a row to win.\n",
        "    'X' plays first against 'O'.\"\"\"\n",
        "\n",
        "    def __init__(self, height=3, width=3, k=3):\n",
        "        self.k = k # k in a row\n",
        "        self.squares = {(x, y) for x in range(width) for y in range(height)}\n",
        "        self.initial = Board(height=height, width=width, to_move='X', utility=0)\n",
        "\n",
        "    def actions(self, board):\n",
        "        \"\"\"Legal moves are any square not yet taken.\"\"\"\n",
        "        return self.squares - set(board)\n",
        "\n",
        "    def result(self, board, square):\n",
        "        \"\"\"Place a marker for current player on square.\"\"\"\n",
        "        player = board.to_move\n",
        "        board = board.new({square: player}, to_move=('O' if player == 'X' else 'X'))\n",
        "        win = k_in_row(board, player, square, self.k)\n",
        "        board.utility = (0 if not win else +1 if player == 'X' else -1)\n",
        "        return board\n",
        "\n",
        "    def utility(self, board, player):\n",
        "        \"\"\"Return the value to player; 1 for win, -1 for loss, 0 otherwise.\"\"\"\n",
        "        return board.utility if player == 'X' else -board.utility\n",
        "\n",
        "    def is_terminal(self, board):\n",
        "        \"\"\"A board is a terminal state if it is won or there are no empty squares.\"\"\"\n",
        "        return board.utility != 0 or len(self.squares) == len(board)\n",
        "\n",
        "    def display(self, board):\n",
        "        print(board)\n",
        "\n",
        "def k_in_row(board, player, square, k):\n",
        "    \"\"\"True if player has k pieces in a line through square.\"\"\"\n",
        "    def in_row(x, y, dx, dy):\n",
        "        return 0 if board[x, y] != player else 1 + in_row(x + dx, y + dy, dx, dy)\n",
        "    return any(in_row(*square, dx, dy) + in_row(*square, -dx, -dy) - 1 >= k\n",
        "               for (dx, dy) in ((0, 1), (1, 0), (1, 1), (1, -1)))"
      ],
      "execution_count": null,
      "outputs": []
    },
    {
      "cell_type": "markdown",
      "metadata": {
        "id": "fSCW1spxDIIt"
      },
      "source": [
        "## Minimax-Based Game Search Algorithm\n",
        "\n",
        "The following minimax-based game search algorithms take two inputs: `game`the game we are playing, and `state`, the current state of the game.\n",
        "It returns a `(value, move)` pair, where `value` is the utility that the algorithm computes for the player whose turn it is to move, and `move` is the move itself.\n",
        "\n",
        "First we define `minimax_search`, which exhaustively searches the game tree to find an optimal move (assuming both players play optimally), and `alphabeta_search`, which does the same computation, but prunes parts of the tree that could not possibly have an affect on the optimnal move.  \n",
        "\n",
        "## Complete `minimax_search` below (20 points)."
      ]
    },
    {
      "cell_type": "code",
      "metadata": {
        "id": "wgTdHx6CDIIt"
      },
      "source": [
        "infinity = math.inf\n",
        "\n",
        "def minimax_search(game, state):\n",
        "    \"\"\"Search game tree to determine best move; return (value, move) pair.\"\"\"\n",
        "\n",
        "    player = state.to_move\n",
        "\n",
        "    def max_value(state):\n",
        "        if game.is_terminal(state):\n",
        "            return game.utility(state, player), None\n",
        "        v, move = -infinity, None\n",
        "        for a in game.actions(state):\n",
        "            v2, _ = min_value(game.result(state, a))\n",
        "            if v2 > v:\n",
        "                v, move = v2, a\n",
        "        return v, move\n",
        "\n",
        "    def min_value(state):\n",
        "        if game.is_terminal(state):\n",
        "            return game.utility(state, player), None\n",
        "        v, move = +infinity, None\n",
        "        for a in game.actions(state):\n",
        "            ####################Write your code here ################################# (20 points)\n",
        "            # Hint: only three lines are sufficiently; take a close look at the max_value function above; It is very similar\n",
        "            # Hint: You can also refer to alphabeta_search below, which is a more complex version of minimax_search\n",
        "            v2, _ = min_value(game.result(state, a))\n",
        "            if v2 < v:\n",
        "                v, move = v2, a\n",
        "            ###########################End code#############################################\n",
        "        return v, move\n",
        "\n",
        "    return max_value(state)\n",
        "\n",
        "def alphabeta_search(game, state):\n",
        "    \"\"\"Search game to determine best action; use alpha-beta pruning.\n",
        "    As in the AI textbook 4th edition [Figure 5.7], this version searches all the way to the leaves.\"\"\"\n",
        "\n",
        "    player = state.to_move\n",
        "\n",
        "    def max_value(state, alpha, beta):\n",
        "        if game.is_terminal(state):\n",
        "            return game.utility(state, player), None\n",
        "        v, move = -infinity, None\n",
        "        for a in game.actions(state):\n",
        "            v2, _ = min_value(game.result(state, a), alpha, beta)\n",
        "            if v2 > v:\n",
        "                v, move = v2, a\n",
        "                alpha = max(alpha, v)\n",
        "            if v >= beta:\n",
        "                return v, move\n",
        "        return v, move\n",
        "\n",
        "    def min_value(state, alpha, beta):\n",
        "        if game.is_terminal(state):\n",
        "            return game.utility(state, player), None\n",
        "        v, move = +infinity, None\n",
        "        for a in game.actions(state):\n",
        "            v2, _ = max_value(game.result(state, a), alpha, beta)\n",
        "            if v2 < v:\n",
        "                v, move = v2, a\n",
        "                beta = min(beta, v)\n",
        "            if v <= alpha:\n",
        "                return v, move\n",
        "        return v, move\n",
        "\n",
        "    return max_value(state, -infinity, +infinity)"
      ],
      "execution_count": null,
      "outputs": []
    },
    {
      "cell_type": "markdown",
      "metadata": {
        "id": "wJicM98ADIIu"
      },
      "source": [
        "## Players\n",
        "\n",
        "We need an interface for players. I'll represent a player as a `callable` that will be passed two arguments: `(game, state)` and will return a `move`.\n",
        "The function `player` creates a player out of a search algorithm, but you can create your own players as functions, as is done with `random_player` below:"
      ]
    },
    {
      "cell_type": "code",
      "metadata": {
        "id": "YP5FqesRDIIu"
      },
      "source": [
        "def random_player(game, state):\n",
        "    return random.choice(list(game.actions(state)))\n",
        "\n",
        "def player(search_algorithm):\n",
        "    \"\"\"A game player who uses the specified search algorithm\"\"\"\n",
        "    return lambda game, state: search_algorithm(game, state)[1]"
      ],
      "execution_count": null,
      "outputs": []
    },
    {
      "cell_type": "markdown",
      "metadata": {
        "id": "xQELOz1DDIIu"
      },
      "source": [
        "# Playing a Game\n",
        "\n",
        "We're ready to play a game. I'll set up a match between a `random_player` (who chooses randomly from the legal moves) and a `player(alphabeta_search)` (who makes the optimal alpha-beta move; practical for tic-tac-toe, but not for large games). The `player(alphabeta_search)` will never lose, but if `random_player` is lucky, it will be a tie."
      ]
    },
    {
      "cell_type": "code",
      "metadata": {
        "colab": {
          "base_uri": "https://localhost:8080/"
        },
        "id": "DeFX9ukYDIIv",
        "outputId": "cb76c915-67fb-4034-c5d5-577c14add245"
      },
      "source": [
        "play_game(TicTacToe(), dict(X=player(alphabeta_search), O=random_player), verbose=True).utility"
      ],
      "execution_count": null,
      "outputs": [
        {
          "output_type": "stream",
          "name": "stdout",
          "text": [
            "Player X move: (0, 1)\n",
            ". . .\n",
            "X . .\n",
            ". . .\n",
            "\n",
            "Player O move: (0, 0)\n",
            "O . .\n",
            "X . .\n",
            ". . .\n",
            "\n",
            "Player X move: (1, 1)\n",
            "O . .\n",
            "X X .\n",
            ". . .\n",
            "\n",
            "Player O move: (1, 2)\n",
            "O . .\n",
            "X X .\n",
            ". O .\n",
            "\n",
            "Player X move: (2, 1)\n",
            "O . .\n",
            "X X X\n",
            ". O .\n",
            "\n"
          ]
        },
        {
          "output_type": "execute_result",
          "data": {
            "text/plain": [
              "1"
            ]
          },
          "metadata": {},
          "execution_count": 7
        }
      ]
    },
    {
      "cell_type": "markdown",
      "metadata": {
        "id": "VIB2C4tnDIIv"
      },
      "source": [
        "The alpha-beta player will never lose, but sometimes the random player can stumble into a draw. When two optimal (alpha-beta or minimax) players compete, it will always be a draw:"
      ]
    },
    {
      "cell_type": "code",
      "metadata": {
        "colab": {
          "base_uri": "https://localhost:8080/"
        },
        "id": "bKwteteFDIIw",
        "outputId": "e236a690-57a9-4d0d-ee4a-c41fdaf05dee"
      },
      "source": [
        "play_game(TicTacToe(), dict(X=player(alphabeta_search), O=player(minimax_search)), verbose=True).utility"
      ],
      "execution_count": null,
      "outputs": [
        {
          "output_type": "stream",
          "name": "stdout",
          "text": [
            "Player X move: (0, 1)\n",
            ". . .\n",
            "X . .\n",
            ". . .\n",
            "\n",
            "Player O move: (1, 2)\n",
            ". . .\n",
            "X . .\n",
            ". O .\n",
            "\n",
            "Player X move: (1, 1)\n",
            ". . .\n",
            "X X .\n",
            ". O .\n",
            "\n",
            "Player O move: (2, 1)\n",
            ". . .\n",
            "X X O\n",
            ". O .\n",
            "\n",
            "Player X move: (0, 0)\n",
            "X . .\n",
            "X X O\n",
            ". O .\n",
            "\n",
            "Player O move: (1, 0)\n",
            "X O .\n",
            "X X O\n",
            ". O .\n",
            "\n",
            "Player X move: (0, 2)\n",
            "X O .\n",
            "X X O\n",
            "X O .\n",
            "\n"
          ]
        },
        {
          "output_type": "execute_result",
          "data": {
            "text/plain": [
              "1"
            ]
          },
          "metadata": {},
          "execution_count": 8
        }
      ]
    },
    {
      "cell_type": "markdown",
      "metadata": {
        "id": "lZ0BPdunDIIw"
      },
      "source": [
        "# Heuristic Cutoffs"
      ]
    },
    {
      "cell_type": "code",
      "metadata": {
        "id": "3bC3GnaUDIIw"
      },
      "source": [
        "def cutoff_depth(d):\n",
        "    \"\"\"A cutoff function that searches to depth d.\"\"\"\n",
        "    return lambda game, state, depth: depth > d\n",
        "\n",
        "def cache1(function):\n",
        "    \"Like lru_cache(None), but only considers the first argument of function.\"\n",
        "    cache = {}\n",
        "    def wrapped(x, *args):\n",
        "        if x not in cache:\n",
        "            cache[x] = function(x, *args)\n",
        "        return cache[x]\n",
        "    return wrapped\n",
        "\n",
        "def h_alphabeta_search(game, state, cutoff=cutoff_depth(6), h=lambda s, p: 0):\n",
        "    \"\"\"Search game to determine best action; use alpha-beta pruning.\n",
        "    As in [Figure 5.7], this version searches all the way to the leaves.\"\"\"\n",
        "\n",
        "    player = state.to_move\n",
        "\n",
        "    @cache1\n",
        "    def max_value(state, alpha, beta, depth):\n",
        "        if game.is_terminal(state):\n",
        "            return game.utility(state, player), None\n",
        "        if cutoff(game, state, depth):\n",
        "            return h(state, player), None\n",
        "        v, move = -infinity, None\n",
        "        for a in game.actions(state):\n",
        "            v2, _ = min_value(game.result(state, a), alpha, beta, depth+1)\n",
        "            if v2 > v:\n",
        "                v, move = v2, a\n",
        "                alpha = max(alpha, v)\n",
        "            if v >= beta:\n",
        "                return v, move\n",
        "        return v, move\n",
        "\n",
        "    @cache1\n",
        "    def min_value(state, alpha, beta, depth):\n",
        "        if game.is_terminal(state):\n",
        "            return game.utility(state, player), None\n",
        "        if cutoff(game, state, depth):\n",
        "            return h(state, player), None\n",
        "        v, move = +infinity, None\n",
        "        for a in game.actions(state):\n",
        "            v2, _ = max_value(game.result(state, a), alpha, beta, depth + 1)\n",
        "            if v2 < v:\n",
        "                v, move = v2, a\n",
        "                beta = min(beta, v)\n",
        "            if v <= alpha:\n",
        "                return v, move\n",
        "        return v, move\n",
        "\n",
        "    return max_value(state, -infinity, +infinity, 0)"
      ],
      "execution_count": null,
      "outputs": []
    },
    {
      "cell_type": "code",
      "metadata": {
        "colab": {
          "base_uri": "https://localhost:8080/"
        },
        "id": "MGDWXuETDIIx",
        "outputId": "eb7bad89-2409-4ff9-dd1a-5051aea3f6cc"
      },
      "source": [
        "play_game(TicTacToe(), {'X':player(h_alphabeta_search), 'O':player(h_alphabeta_search)}, verbose=True).utility"
      ],
      "execution_count": null,
      "outputs": [
        {
          "output_type": "stream",
          "name": "stdout",
          "text": [
            "Player X move: (0, 1)\n",
            ". . .\n",
            "X . .\n",
            ". . .\n",
            "\n",
            "Player O move: (2, 1)\n",
            ". . .\n",
            "X . O\n",
            ". . .\n",
            "\n",
            "Player X move: (1, 2)\n",
            ". . .\n",
            "X . O\n",
            ". X .\n",
            "\n",
            "Player O move: (0, 0)\n",
            "O . .\n",
            "X . O\n",
            ". X .\n",
            "\n",
            "Player X move: (1, 1)\n",
            "O . .\n",
            "X X O\n",
            ". X .\n",
            "\n",
            "Player O move: (1, 0)\n",
            "O O .\n",
            "X X O\n",
            ". X .\n",
            "\n",
            "Player X move: (2, 0)\n",
            "O O X\n",
            "X X O\n",
            ". X .\n",
            "\n",
            "Player O move: (0, 2)\n",
            "O O X\n",
            "X X O\n",
            "O X .\n",
            "\n",
            "Player X move: (2, 2)\n",
            "O O X\n",
            "X X O\n",
            "O X X\n",
            "\n"
          ]
        },
        {
          "output_type": "execute_result",
          "data": {
            "text/plain": [
              "0"
            ]
          },
          "metadata": {},
          "execution_count": 10
        }
      ]
    },
    {
      "cell_type": "code",
      "metadata": {
        "colab": {
          "base_uri": "https://localhost:8080/"
        },
        "id": "09ilSBxVDIIx",
        "outputId": "45945375-5f36-4bfe-c359-5e9a7b6f8435"
      },
      "source": [
        "class CountCalls:\n",
        "    \"\"\"Delegate all attribute gets to the object, and count them in ._counts\"\"\"\n",
        "    def __init__(self, obj):\n",
        "        self._object = obj\n",
        "        self._counts = Counter()\n",
        "\n",
        "    def __getattr__(self, attr):\n",
        "        \"Delegate to the original object, after incrementing a counter.\"\n",
        "        self._counts[attr] += 1\n",
        "        return getattr(self._object, attr)\n",
        "\n",
        "def report(game, searchers):\n",
        "    for searcher in searchers:\n",
        "        game = CountCalls(game)\n",
        "        searcher(game, game.initial)\n",
        "        print('Result states: {:7,d}; Terminal tests: {:7,d}; for {}'.format(\n",
        "            game._counts['result'], game._counts['is_terminal'], searcher.__name__))\n",
        "\n",
        "report(TicTacToe(), (alphabeta_search, h_alphabeta_search))"
      ],
      "execution_count": null,
      "outputs": [
        {
          "output_type": "stream",
          "name": "stdout",
          "text": [
            "Result states:  23,177; Terminal tests:  23,178; for alphabeta_search\n",
            "Result states:   3,838; Terminal tests:   2,423; for h_alphabeta_search\n"
          ]
        }
      ]
    },
    {
      "cell_type": "markdown",
      "metadata": {
        "id": "2bFbXFJQDIIx"
      },
      "source": [
        "# Monte Carlo Tree Search\n",
        "\n",
        "## Complete `monte_carlo_tree_search` below (20 points)."
      ]
    },
    {
      "cell_type": "code",
      "metadata": {
        "id": "KCX_dCv-DIIx"
      },
      "source": [
        "class MCT_Node:\n",
        "    \"\"\"Node in the Monte Carlo search tree, keeps track of the children states.\"\"\"\n",
        "\n",
        "    def __init__(self, parent=None, state=None, U=0, N=0):\n",
        "        self.__dict__.update(parent=parent, state=state, U=U, N=N)\n",
        "        self.children = {}\n",
        "        self.actions = None\n",
        "\n",
        "\n",
        "def ucb(n, C=1.4):\n",
        "    \"\"\"Upper confidence bound\n",
        "    \"\"\"\n",
        "    return np.inf if n.N == 0 else n.U / n.N + C * np.sqrt(np.log(n.parent.N) / n.N)\n",
        "\n",
        "def monte_carlo_tree_search(state, game, N=1000):\n",
        "    def select(n):\n",
        "        \"\"\"select a leaf node in the tree\"\"\"\n",
        "        if n.children:\n",
        "            return select(max(n.children.keys(), key=ucb))\n",
        "        else:\n",
        "            return n\n",
        "\n",
        "    def expand(n):\n",
        "        \"\"\"expand the leaf node by adding all its children states\"\"\"\n",
        "        if not n.children and not game.is_terminal(n.state):\n",
        "            n.children = {MCT_Node(state=game.result(n.state, action), parent=n): action\n",
        "                          for action in game.actions(n.state)}\n",
        "        return select(n)\n",
        "\n",
        "    def simulate(game, state):\n",
        "        \"\"\"simulate the utility of current state by random picking a step\"\"\"\n",
        "        player = game.to_move(state)\n",
        "        while not game.is_terminal(state):\n",
        "            action = random.choice(list(game.actions(state)))\n",
        "            state = game.result(state, action)\n",
        "        v = game.utility(state, player)\n",
        "        return -v\n",
        "\n",
        "    def backprop(n, utility):\n",
        "        \"\"\"passing the utility back to all parent nodes\"\"\"\n",
        "        if utility > 0:\n",
        "            n.U += utility\n",
        "        # if utility == 0:\n",
        "        #     n.U += 0.5\n",
        "        n.N += 1\n",
        "        if n.parent:\n",
        "            backprop(n.parent, -utility)\n",
        "\n",
        "    root = MCT_Node(state=state)\n",
        "\n",
        "    for _ in range(N):\n",
        "        leaf = select(root)\n",
        "        #############################Write your code here#################################### (10 points)\n",
        "        # Hint: One single line; call the expand function define above and return child for the simulate function below\n",
        "        child = expand(leaf)\n",
        "        ###############################End code#########################################################\n",
        "        result = simulate(game, child.state)\n",
        "        #############################Write your code here#################################### (10 points)\n",
        "        # Hint: One single line; call the backprop function define above; you only need to specify the two arguments for the backprop function\n",
        "        backprop(child, result)\n",
        "        ###############################End code#########################################################\n",
        "\n",
        "    max_state = max(root.children, key=ucb)\n",
        "\n",
        "    return root.children.get(max_state)\n",
        "\n",
        "def mcts_player(game, state):\n",
        "    return monte_carlo_tree_search(state, game)"
      ],
      "execution_count": null,
      "outputs": []
    },
    {
      "cell_type": "code",
      "metadata": {
        "colab": {
          "base_uri": "https://localhost:8080/"
        },
        "id": "CIK2FlGtDIIy",
        "outputId": "dde591cb-1a88-483d-de0f-88e4b97b370c"
      },
      "source": [
        "play_game(TicTacToe(), {'X': mcts_player, 'O': random_player}, verbose=True).utility"
      ],
      "execution_count": null,
      "outputs": [
        {
          "output_type": "stream",
          "name": "stdout",
          "text": [
            "Player X move: (2, 0)\n",
            ". . X\n",
            ". . .\n",
            ". . .\n",
            "\n",
            "Player O move: (1, 1)\n",
            ". . X\n",
            ". O .\n",
            ". . .\n",
            "\n",
            "Player X move: (1, 0)\n",
            ". X X\n",
            ". O .\n",
            ". . .\n",
            "\n",
            "Player O move: (2, 1)\n",
            ". X X\n",
            ". O O\n",
            ". . .\n",
            "\n",
            "Player X move: (0, 0)\n",
            "X X X\n",
            ". O O\n",
            ". . .\n",
            "\n"
          ]
        },
        {
          "output_type": "execute_result",
          "data": {
            "text/plain": [
              "1"
            ]
          },
          "metadata": {},
          "execution_count": 13
        }
      ]
    },
    {
      "cell_type": "code",
      "metadata": {
        "colab": {
          "base_uri": "https://localhost:8080/"
        },
        "id": "OxgVTwS-DIIy",
        "outputId": "e1e26865-fb05-44ee-a6b5-be296cd0edda"
      },
      "source": [
        "play_game(TicTacToe(), {'X': mcts_player, 'O': player(h_alphabeta_search)}, verbose=True).utility"
      ],
      "execution_count": null,
      "outputs": [
        {
          "output_type": "stream",
          "name": "stdout",
          "text": [
            "Player X move: (1, 1)\n",
            ". . .\n",
            ". X .\n",
            ". . .\n",
            "\n",
            "Player O move: (0, 0)\n",
            "O . .\n",
            ". X .\n",
            ". . .\n",
            "\n",
            "Player X move: (2, 1)\n",
            "O . .\n",
            ". X X\n",
            ". . .\n",
            "\n",
            "Player O move: (0, 1)\n",
            "O . .\n",
            "O X X\n",
            ". . .\n",
            "\n",
            "Player X move: (0, 2)\n",
            "O . .\n",
            "O X X\n",
            "X . .\n",
            "\n",
            "Player O move: (2, 0)\n",
            "O . O\n",
            "O X X\n",
            "X . .\n",
            "\n",
            "Player X move: (1, 0)\n",
            "O X O\n",
            "O X X\n",
            "X . .\n",
            "\n",
            "Player O move: (1, 2)\n",
            "O X O\n",
            "O X X\n",
            "X O .\n",
            "\n",
            "Player X move: (2, 2)\n",
            "O X O\n",
            "O X X\n",
            "X O X\n",
            "\n"
          ]
        },
        {
          "output_type": "execute_result",
          "data": {
            "text/plain": [
              "0"
            ]
          },
          "metadata": {},
          "execution_count": 14
        }
      ]
    }
  ]
}